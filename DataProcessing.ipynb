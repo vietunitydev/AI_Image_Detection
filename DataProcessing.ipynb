{
 "cells": [
  {
   "cell_type": "markdown",
   "id": "3f51f19c",
   "metadata": {},
   "source": [
    "## Image Processing\n",
    "\n",
    "The code organizes the dataset of images into training and test sets for three categories: human, dalle, and stable. Random samples are selected from each category for training and the remaining samples are used for testing. The images are preprocessed, resized, and converted into numpy arrays. Training and test batches are created and saved as pickle files for later use."
   ]
  },
  {
   "cell_type": "code",
   "id": "fbff5cd9",
   "metadata": {
    "ExecuteTime": {
     "end_time": "2024-10-29T17:14:29.382516Z",
     "start_time": "2024-10-29T17:14:29.168878Z"
    }
   },
   "source": [
    "import pickle as pkl\n",
    "from PIL import Image\n",
    "import numpy as np\n",
    "import os\n",
    "import webp\n",
    "import random\n",
    "from tqdm import tqdm\n",
    "\n",
    "\n",
    "def get_random_samples(file_list, sample_size):\n",
    "    \"\"\"Randomly selects samples from the given file list.\"\"\"\n",
    "    return random.sample(file_list, sample_size)\n",
    "\n",
    "\n",
    "def get_remaining_samples(file_list, selected_samples):\n",
    "    \"\"\"Returns the samples not selected from the file list.\"\"\"\n",
    "    return [sample for sample in file_list if sample not in selected_samples]\n",
    "\n",
    "\n",
    "def preprocess_image(image_path, target_size):\n",
    "    \"\"\"Loads and preprocesses the image from the given path.\"\"\"\n",
    "    img = Image.open(image_path).resize(target_size)\n",
    "    return np.array(img.convert(\"RGB\")) / 255.\n",
    "\n",
    "\n",
    "def preprocess_webp_image(image_path, target_size, crop_size):\n",
    "    \"\"\"Loads and preprocesses the WebP image from the given path.\"\"\"\n",
    "    img = webp.load_image(image_path, 'RGB').resize(target_size).crop(crop_size)\n",
    "    return np.array(img) / 255.\n",
    "\n",
    "\n",
    "def save_pickle_file(data, file_path):\n",
    "    \"\"\"Saves the data as a pickle file at the specified path.\"\"\"\n",
    "    with open(file_path, 'wb') as f:\n",
    "        pkl.dump(data, f)\n",
    "\n",
    "\n",
    "def create_batches(file_paths, data_folder, batch_size):\n",
    "    \"\"\"Creates batches of images and labels from the given file paths.\"\"\"\n",
    "    data = []\n",
    "    labels = []\n",
    "    for path in file_paths:\n",
    "        img = preprocess_image(path, (255, 245))\n",
    "        data.append(img)\n",
    "        labels.append([1, 0, 0])\n",
    "\n",
    "    return np.stack(data), np.array(labels)\n",
    "\n",
    "\n",
    "def create_webp_batches(file_paths, data_folder, batch_size):\n",
    "    \"\"\"Creates batches of WebP images and labels from the given file paths.\"\"\"\n",
    "    data = []\n",
    "    labels = []\n",
    "    for path in file_paths:\n",
    "        img = preprocess_webp_image(path, (256, 256), (0, 0, 255, 245))\n",
    "        data.append(img)\n",
    "        labels.append([0, 1, 0])\n",
    "\n",
    "    return np.stack(data), np.array(labels)\n",
    "\n",
    "\n",
    "def organize_data(human_path, dalle_path, stable_path, folder):\n",
    "    # Image locations\n",
    "    human_path = human_path\n",
    "    dalle_path = dalle_path\n",
    "    stable_path = stable_path\n",
    "\n",
    "    # Create a new folder to save information\n",
    "    folder = folder\n",
    "\n",
    "    # Randomly select test and training samples for each category\n",
    "    human_files = os.listdir(human_path)\n",
    "    human_train = get_random_samples(human_files, 40800)\n",
    "    human_test = get_remaining_samples(human_files, human_train)\n",
    "\n",
    "    dalle_files = os.listdir(dalle_path)\n",
    "    dalle_train = get_random_samples(dalle_files, 40800)\n",
    "    dalle_test = get_remaining_samples(dalle_files, dalle_train)\n",
    "\n",
    "    stable_files = os.listdir(stable_path)\n",
    "    stable_train = get_random_samples(stable_files, 40800)\n",
    "    stable_test = get_remaining_samples(stable_files, stable_train)\n",
    "\n",
    "    # Save the train and test sample names as pickle files\n",
    "    save_pickle_file([human_train, dalle_train, stable_train], folder + 'file_names\\\\train.pickle')\n",
    "    save_pickle_file([human_test, dalle_test, stable_test], folder + 'file_names\\\\test.pickle')\n",
    "\n",
    "    # Create training batches\n",
    "    num_batches = 68\n",
    "    batch_size = 600\n",
    "    for batch in tqdm(range(num_batches)):\n",
    "        human_train_batch = human_train[batch * batch_size:(batch + 1) * batch_size]\n",
    "        dalle_train_batch = dalle_train[batch * batch_size:(batch + 1) * batch]\n"
   ],
   "outputs": [],
   "execution_count": 1
  },
  {
   "metadata": {
    "ExecuteTime": {
     "end_time": "2024-10-26T08:05:53.865510Z",
     "start_time": "2024-10-26T08:05:53.863448Z"
    }
   },
   "cell_type": "code",
   "source": "",
   "id": "b3dc90ccfe2159f",
   "outputs": [],
   "execution_count": null
  }
 ],
 "metadata": {
  "kernelspec": {
   "display_name": "Python 3",
   "language": "python",
   "name": "python3"
  },
  "language_info": {
   "codemirror_mode": {
    "name": "ipython",
    "version": 3
   },
   "file_extension": ".py",
   "mimetype": "text/x-python",
   "name": "python",
   "nbconvert_exporter": "python",
   "pygments_lexer": "ipython3",
   "version": "3.8.8"
  }
 },
 "nbformat": 4,
 "nbformat_minor": 5
}
